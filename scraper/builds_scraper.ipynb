{
 "metadata": {
  "language_info": {
   "codemirror_mode": {
    "name": "ipython",
    "version": 3
   },
   "file_extension": ".py",
   "mimetype": "text/x-python",
   "name": "python",
   "nbconvert_exporter": "python",
   "pygments_lexer": "ipython3",
   "version": "3.7.6-final"
  },
  "orig_nbformat": 2,
  "kernelspec": {
   "name": "python_defaultSpec_1600743276829",
   "display_name": "Python 3.7.6 64-bit ('base': conda)"
  }
 },
 "nbformat": 4,
 "nbformat_minor": 2,
 "cells": [
  {
   "cell_type": "code",
   "execution_count": 2,
   "metadata": {},
   "outputs": [],
   "source": [
    "from pprint import pprint\n",
    "import time\n",
    "import traceback\n",
    "from random import randint\n",
    "from itertools import cycle\n",
    "from bs4 import BeautifulSoup\n",
    "import requests\n",
    "from selenium import webdriver\n",
    "from selenium.webdriver.firefox.options import Options"
   ]
  },
  {
   "cell_type": "code",
   "execution_count": 3,
   "metadata": {},
   "outputs": [],
   "source": [
    "def get_driver(proxy=None, user_agent=None):\n",
    "    options = Options()\n",
    "    options.headless = True\n",
    "\n",
    "    if proxy:\n",
    "        options.add_argument(f'--proxy-server={proxy}')\n",
    "    if user_agent:\n",
    "        options.add_argument(f'--user_agent={user_agent}')\n",
    "\n",
    "    firefox_profile = webdriver.FirefoxProfile()\n",
    "    firefox_profile.set_preference('permissions.default.image', 2)\n",
    "    firefox_profile.set_preference('dom.ipc.plugins.enabled.libflashplayer.so', 'false')\n",
    "    browser = webdriver.Firefox(options=options, firefox_profile=firefox_profile)\n",
    "\n",
    "    return browser"
   ]
  },
  {
   "cell_type": "code",
   "execution_count": 5,
   "metadata": {},
   "outputs": [],
   "source": [
    "def parsed_url(page = 1, low_range=250, up_range=5000, build_link = None):\n",
    "    base_url = 'https://pcpartpicker.com'\n",
    "    if build_link == None:\n",
    "        fragment = f'/builds/#B=1&page={page}&X={low_range}00,{up_range}00'\n",
    "    else: \n",
    "        fragment = f'{build_link}'\n",
    "\n",
    "    return f'{base_url}{fragment}'"
   ]
  },
  {
   "cell_type": "code",
   "execution_count": 123,
   "metadata": {},
   "outputs": [],
   "source": [
    "def clean_price(price):\n",
    "    if price[0] == '$':\n",
    "        price = price.replace('$', '').strip()\n",
    "        if len(price.split(' ')) > 1:\n",
    "            return False\n",
    "    else: \n",
    "        return False\n",
    "\n",
    "    return float(price)"
   ]
  },
  {
   "cell_type": "code",
   "execution_count": 158,
   "metadata": {},
   "outputs": [],
   "source": [
    "def build_scraper(url, user_agent):\n",
    "    builds_dict = {}\n",
    "    build_comps = ['Name','CPU', 'CPU Cooler', 'Motherboard', 'Memory', 'Storage', 'Video Card', 'Case', 'Power Supply', 'Build Price']\n",
    "\n",
    "    try:\n",
    "        rq = requests.get(url, headers=user_agent)\n",
    "    except Exception as e:\n",
    "        print(e)\n",
    "        return builds_dict\n",
    "\n",
    "    soup = BeautifulSoup(rq.content, 'lxml')\n",
    "    builds_dict['Name'] = soup.find('h1', {\"class\": \"build__name\"}).text\n",
    "    comp_table_rows = soup.find('table', {\"class\": \"partlist partlist--mini\"}).find_all('tr')\n",
    "    extra_price = 0\n",
    "\n",
    "    # Two rows is one component, one for the name of the comp and other for the features\n",
    "    row_it = iter(comp_table_rows)\n",
    "    for name, component in zip(row_it, row_it):\n",
    "        try:\n",
    "            name_text = name.find('h4').text.strip()\n",
    "            # Getting the name and price components\n",
    "            component_el = component.find('td', {'class':'td__name'}).findChildren(text=True)\n",
    "            component_el = list(filter(lambda el: el != '\\n', component_el))\n",
    "\n",
    "            if len(component_el) == 2:\n",
    "                comp_name = component_el[0]\n",
    "                comp_price = clean_price(component_el[1])\n",
    "                # If price isn't in USD\n",
    "                if not comp_price: \n",
    "                    return {}\n",
    "            else:\n",
    "                comp_name, comp_price = *component_el, None\n",
    "\n",
    "            # If the component are in the selected list for scrape\n",
    "            if name_text in build_comps:\n",
    "                comp_els = {'Name': comp_name, 'Price': comp_price}\n",
    "\n",
    "                if name_text not in builds_dict:\n",
    "                    builds_dict[name_text] = comp_els\n",
    "                else:\n",
    "                    comp_copy = builds_dict[name_text].copy()\n",
    "                    builds_dict[name_text] = []\n",
    "                    builds_dict[name_text].extend([comp_els, comp_copy])\n",
    "            else:\n",
    "                # Calculate the total of the components not taken into account\n",
    "                extra_price += comp_price if isinstance(comp_price, float) else 0\n",
    "\n",
    "            \n",
    "        except Exception as e:\n",
    "            print(e, url, name_text, component_el)\n",
    "            continue\n",
    "\n",
    "        total_table_row = soup.find('table', {\"class\": \"block partlist partlist--mini partlist--totals\"}).find('td', {\"class\": \"td__price\"}).text\n",
    "        builds_dict['Build Price'] = round(float(total_table_row.replace('$', '')) - extra_price, 2)\n",
    "    \n",
    "    return builds_dict"
   ]
  },
  {
   "cell_type": "code",
   "execution_count": 159,
   "metadata": {},
   "outputs": [],
   "source": [
    "def main():\n",
    "    user_agent = {'User-Agent':'Mozilla/5.0 (Windows NT 10.0; Win64; x64; rv:80.0) Gecko/20100101 Firefox/80.0'}\n",
    "    n_pages = 1\n",
    "    builds_list = [] \n",
    "    for i in range(1, n_pages+1):\n",
    "        try:\n",
    "            url = parsed_url(page=i)\n",
    "            browser = get_driver(user_agent=user_agent)\n",
    "            browser.get(url)\n",
    "            delay = randint(2, 5)  \n",
    "            time.sleep(delay)\n",
    "            soup = BeautifulSoup(browser.page_source, 'lxml')\n",
    "\n",
    "            # Get the link of all build cards in a single page\n",
    "            builds_links = soup.find_all(\"a\", {\"class\": \"logGroup__target\"}, href=True)\n",
    "            \n",
    "            for build in builds_links:\n",
    "                build_url = parsed_url(build_link=build['href'])\n",
    "                build_dict = build_scraper(build_url, user_agent)\n",
    "                if build_dict:\n",
    "                    builds_list.append(build_dict)\n",
    "                \n",
    "                delay = randint(2, 10)  \n",
    "                time.sleep(delay)\n",
    "\n",
    "            browser.close()\n",
    "        except Exception as e:\n",
    "            browser.close()\n",
    "            print(traceback.format_exc())\n",
    "            continue\n",
    "\n",
    "    \n",
    "    return builds_list\n"
   ]
  },
  {
   "cell_type": "code",
   "execution_count": 156,
   "metadata": {
    "tags": []
   },
   "outputs": [],
   "source": [
    "if __name__ == '__main__':\n",
    "    builds = build_scraper('https://pcpartpicker.com/b/Bstp99', user_agent)"
   ]
  },
  {
   "cell_type": "code",
   "execution_count": 157,
   "metadata": {
    "tags": []
   },
   "outputs": [
    {
     "output_type": "stream",
     "name": "stdout",
     "text": "{'Build Price': 1421.35,\n 'CPU': {'Name': 'Intel Core i7-9700K 3.6 GHz 8-Core', 'Price': 289.99},\n 'CPU Cooler': {'Name': 'Corsair iCUE H100i RGB PRO XT 75 CFM Liquid',\n                'Price': 119.99},\n 'Case': {'Name': 'RIOTORO CR1080 ATX Mid Tower', 'Price': 132.4},\n 'Memory': [{'Name': 'Corsair Vengeance LPX 32 GB (2 x 16 GB) DDR4-3200 CL16',\n             'Price': 129.99},\n            {'Name': 'Corsair Vengeance LPX 32 GB (2 x 16 GB) DDR4-3200 CL16',\n             'Price': 129.99}],\n 'Motherboard': {'Name': 'EVGA Z390 FTW ATX LGA1151', 'Price': None},\n 'Name': 'Tiny HTPC Gaming Rig with CR1080',\n 'Power Supply': {'Name': 'Corsair 860 W 80+ Platinum Certified Fully Modular '\n                          'ATX',\n                  'Price': None},\n 'Storage': [{'Name': 'Hitachi Ultrastar 7K4000 3 TB 3.5\" 7200RPM',\n              'Price': None},\n             {'Name': 'Samsung 970 Evo 500 GB M.2-2280 NVME SSD',\n              'Price': 89.0}],\n 'Video Card': {'Name': 'Asus GeForce RTX 2070 SUPER 8 GB DUAL EVO OC',\n                'Price': 529.99}}\n"
    }
   ],
   "source": [
    "pprint(builds)"
   ]
  }
 ]
}