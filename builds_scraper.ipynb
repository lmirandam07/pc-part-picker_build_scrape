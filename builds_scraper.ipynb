{
 "metadata": {
  "language_info": {
   "codemirror_mode": {
    "name": "ipython",
    "version": 3
   },
   "file_extension": ".py",
   "mimetype": "text/x-python",
   "name": "python",
   "nbconvert_exporter": "python",
   "pygments_lexer": "ipython3",
   "version": "3.7.6-final"
  },
  "orig_nbformat": 2,
  "kernelspec": {
   "name": "python_defaultSpec_1599663724087",
   "display_name": "Python 3.7.6 64-bit ('base': conda)"
  }
 },
 "nbformat": 4,
 "nbformat_minor": 2,
 "cells": [
  {
   "cell_type": "code",
   "execution_count": 1,
   "metadata": {},
   "outputs": [],
   "source": [
    "import time\n",
    "from pprint import pprint\n",
    "from bs4 import BeautifulSoup\n",
    "import requests\n",
    "from selenium import webdriver\n",
    "from selenium.webdriver.firefox.options import Options"
   ]
  },
  {
   "cell_type": "code",
   "execution_count": 2,
   "metadata": {},
   "outputs": [],
   "source": [
    "def get_driver():\n",
    "    options = Options()\n",
    "    options.headless = True\n",
    "\n",
    "    firefox_profile = webdriver.FirefoxProfile()\n",
    "    firefox_profile.set_preference('permissions.default.image', 2)\n",
    "    firefox_profile.set_preference('dom.ipc.plugins.enabled.libflashplayer.so', 'false')\n",
    "    browser = webdriver.Firefox(options=options, firefox_profile=firefox_profile)\n",
    "\n",
    "    return browser"
   ]
  },
  {
   "cell_type": "code",
   "execution_count": 3,
   "metadata": {},
   "outputs": [],
   "source": [
    "def parsed_url(page = 1, low_range=250, up_range=5000, build_link = None):\n",
    "    base_url = 'https://pcpartpicker.com'\n",
    "    if build_link == None:\n",
    "        fragment = f'/builds/#B=1&page={page}&X={low_range}00,{up_range}00'\n",
    "    else: \n",
    "        fragment = f'{build_link}'\n",
    "\n",
    "    return f'{base_url}{fragment}'"
   ]
  },
  {
   "cell_type": "code",
   "execution_count": 89,
   "metadata": {},
   "outputs": [
    {
     "output_type": "error",
     "ename": "SyntaxError",
     "evalue": "invalid syntax (<ipython-input-89-32df92961b1f>, line 18)",
     "traceback": [
      "\u001b[1;36m  File \u001b[1;32m\"<ipython-input-89-32df92961b1f>\"\u001b[1;36m, line \u001b[1;32m18\u001b[0m\n\u001b[1;33m    component_el = list(component.find('td', {'class':'td__name'}).children.replace('n', ''))\u001b[0m\n\u001b[1;37m               ^\u001b[0m\n\u001b[1;31mSyntaxError\u001b[0m\u001b[1;31m:\u001b[0m invalid syntax\n"
     ]
    }
   ],
   "source": [
    "def build_scraper(url):\n",
    "    builds_dict = {}\n",
    "    build_comps = ['Name','CPU', 'CPU Cooler', 'Motherboard', 'Memory', 'Storage', 'Video Card', 'Case', 'Power Supply', 'Build Price']\n",
    "    rq = requests.get(url)\n",
    "    if rq.status_code != requests.codes.ok:\n",
    "        return builds_dict\n",
    "\n",
    "    soup = BeautifulSoup(rq.content, 'lxml')\n",
    "    builds_dict['Name'] = soup.find('h1', {\"class\": \"build__name\"}).text\n",
    "    comp_table_rows = soup.find('table', {\"class\": \"partlist partlist--mini\"}).find_all('tr')\n",
    "    extra_price = 0\n",
    "\n",
    "    # Two rows is one component, one for the name of the comp and other for the features\n",
    "    row_it = iter(comp_table_rows)\n",
    "    for name, component in zip(row_it, row_it):\n",
    "        try:\n",
    "            name_text = name.find('h4').text\n",
    "            component_el = list(component.find('td', {'class':'td__name'}).children.replace('n', ''))\n",
    "            # If there is a price set to float value, else set to None\n",
    "            if len(component_el) > 1:\n",
    "                comp_price = component_el[1].text\n",
    "                # If the prices aren't in dollars return empty dict\n",
    "                if len(comp_price.split(' ')) > 2 or comp_price[0] != '$':\n",
    "                    print(comp_price)\n",
    "                    return {}\n",
    "                comp_price = float(comp_price.replace('$', ''))\n",
    "            else:\n",
    "                comp_price = None\n",
    "\n",
    "            # If the component are in the selected list for scrape\n",
    "            if name_text in build_comps:\n",
    "                comp_name = component_el[0].text\n",
    "                builds_dict[name_text] = {'Name': comp_name, 'Price': comp_price}\n",
    "            else:\n",
    "                extra_price += comp_price if isinstance(comp_price, float) else 0\n",
    "\n",
    "            \n",
    "        except Exception as e:\n",
    "            print(e)\n",
    "            continue\n",
    "\n",
    "        total_table_row = soup.find('table', {\"class\": \"block partlist partlist--mini partlist--totals\"}).find('td', {\"class\": \"td__price\"}).text\n",
    "        builds_dict['Build Price'] = float(total_table_row.replace('$', '')) - extra_price\n",
    "\n",
    "    return builds_dict"
   ]
  },
  {
   "cell_type": "code",
   "execution_count": 57,
   "metadata": {},
   "outputs": [],
   "source": [
    "def main():\n",
    "    \n",
    "    browser = get_driver()\n",
    "    n_pages = 1\n",
    "    builds_list = [] \n",
    "    for i in range(1, n_pages+1):\n",
    "        try:\n",
    "            url = parsed_url(page=i)\n",
    "            browser.get(url)  \n",
    "            time.sleep(1.2)\n",
    "            soup = BeautifulSoup(browser.page_source, 'html.parser')\n",
    "            builds_links = soup.find_all(\"a\", {\"class\": \"logGroup__target\"}, href=True)\n",
    "\n",
    "            for build in builds_links:\n",
    "                build_url = parsed_url(build_link=build['href'])    \n",
    "                builds_list.append(build_scraper(build_url))\n",
    "  \n",
    "        except Exception as e:\n",
    "            print(e)\n",
    "            continue\n",
    "        \n",
    "    return builds_list\n"
   ]
  },
  {
   "cell_type": "code",
   "execution_count": 88,
   "metadata": {
    "tags": []
   },
   "outputs": [
    {
     "output_type": "stream",
     "name": "stdout",
     "text": "object of type 'list_iterator' has no len()\nobject of type 'list_iterator' has no len()\nobject of type 'list_iterator' has no len()\nobject of type 'list_iterator' has no len()\nobject of type 'list_iterator' has no len()\nobject of type 'list_iterator' has no len()\nobject of type 'list_iterator' has no len()\nobject of type 'list_iterator' has no len()\nobject of type 'list_iterator' has no len()\nobject of type 'list_iterator' has no len()\nobject of type 'list_iterator' has no len()\nobject of type 'list_iterator' has no len()\nobject of type 'list_iterator' has no len()\n{'Name': 'First PC Build'}\n"
    }
   ],
   "source": [
    "if __name__ == '__main__':\n",
    "    #pprint(main())\n",
    "    # pprint(build_scraper('https://pcpartpicker.com/b/pZzNnQ'))\n",
    "    pprint(build_scraper('https://pcpartpicker.com/b/2927YJ'))"
   ]
  }
 ]
}