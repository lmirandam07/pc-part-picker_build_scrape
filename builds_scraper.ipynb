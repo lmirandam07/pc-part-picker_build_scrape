{
 "metadata": {
  "language_info": {
   "codemirror_mode": {
    "name": "ipython",
    "version": 3
   },
   "file_extension": ".py",
   "mimetype": "text/x-python",
   "name": "python",
   "nbconvert_exporter": "python",
   "pygments_lexer": "ipython3",
   "version": "3.7.6-final"
  },
  "orig_nbformat": 2,
  "kernelspec": {
   "name": "python_defaultSpec_1600089603797",
   "display_name": "Python 3.7.6 64-bit ('base': conda)"
  }
 },
 "nbformat": 4,
 "nbformat_minor": 2,
 "cells": [
  {
   "cell_type": "code",
   "execution_count": 15,
   "metadata": {},
   "outputs": [],
   "source": [
    "from pprint import pprint\n",
    "import time\n",
    "from random import randint\n",
    "from bs4 import BeautifulSoup\n",
    "import requests\n",
    "from selenium import webdriver\n",
    "from selenium.webdriver.firefox.options import Options"
   ]
  },
  {
   "cell_type": "code",
   "execution_count": 3,
   "metadata": {},
   "outputs": [],
   "source": [
    "def get_driver():\n",
    "    options = Options()\n",
    "    options.headless = True\n",
    "    firefox_profile = webdriver.FirefoxProfile()\n",
    "    firefox_profile.set_preference('permissions.default.image', 2)\n",
    "    firefox_profile.set_preference('dom.ipc.plugins.enabled.libflashplayer.so', 'false')\n",
    "    browser = webdriver.Firefox(options=options, firefox_profile=firefox_profile)\n",
    "\n",
    "    return browser"
   ]
  },
  {
   "cell_type": "code",
   "execution_count": 94,
   "metadata": {},
   "outputs": [],
   "source": [
    "def get_proxies():\n",
    "    url = 'https://free-proxy-list.net/'\n",
    "    proxies = set()\n",
    "    rq = requests.get(url, headers={'User-Agent':'Mozilla/5.0 (Windows NT 10.0; Win64; x64; rv:80.0) Gecko/20100101 Firefox/80.0'})\n",
    "    if rq.status_code not in range(200, 299):\n",
    "        return proxies\n",
    "    soup = BeautifulSoup(rq.content, 'lxml')\n",
    "    table = soup.find('tbody')\n",
    "    for row in table.find_all('tr'):\n",
    "        try:\n",
    "            if len(proxies) >= 15:\n",
    "                return proxies\n",
    "\n",
    "            if row.find('td', {'class':'hx'}).text == 'yes':\n",
    "                ip, port = row.findChildren(limit=2, text=True)\n",
    "                proxy = ':'.join([ip, port])\n",
    "                proxies.add(proxy)\n",
    "        except Exception as e:\n",
    "            print(e, ip, port)\n",
    "    return proxies"
   ]
  },
  {
   "cell_type": "code",
   "execution_count": 4,
   "metadata": {},
   "outputs": [],
   "source": [
    "def parsed_url(page = 1, low_range=250, up_range=5000, build_link = None):\n",
    "    base_url = 'https://pcpartpicker.com'\n",
    "    if build_link == None:\n",
    "        fragment = f'/builds/#B=1&page={page}&X={low_range}00,{up_range}00'\n",
    "    else: \n",
    "        fragment = f'{build_link}'\n",
    "\n",
    "    return f'{base_url}{fragment}'"
   ]
  },
  {
   "cell_type": "code",
   "execution_count": 89,
   "metadata": {},
   "outputs": [],
   "source": [
    "def build_scraper(url, browser):\n",
    "    builds_dict = {}\n",
    "    build_comps = ['Name','CPU', 'CPU Cooler', 'Motherboard', 'Memory', 'Storage', 'Video Card', 'Case', 'Power Supply', 'Build Price']\n",
    "    rq = requests.get(url)\n",
    "    if rq.status_code != requests.codes.ok:\n",
    "        return builds_dict\n",
    "\n",
    "    soup = BeautifulSoup(rq.content, 'lxml')\n",
    "    builds_dict['Name'] = soup.find('h1', {\"class\": \"build__name\"}).text\n",
    "    comp_table_rows = soup.find('table', {\"class\": \"partlist partlist--mini\"}).find_all('tr')\n",
    "    extra_price = 0\n",
    "\n",
    "    # Two rows is one component, one for the name of the comp and other for the features\n",
    "    row_it = iter(comp_table_rows)\n",
    "    for name, component in zip(row_it, row_it):\n",
    "        try:\n",
    "            name_text = name.find('h4').text.strip()\n",
    "            component_el = component.find('td', {'class':'td__name'})\n",
    "            comp_price = component_el.find(attrs={'class':'td__price'})\n",
    "            \n",
    "            # If there is a price set to float value, else set to None\n",
    "            if comp_price != None:\n",
    "                comp_price = comp_price.text\n",
    "                # If the prices aren't in USD return empty dict\n",
    "                if comp_price[0] == '$':\n",
    "                    comp_price = comp_price.replace('$', '').strip()\n",
    "                    if len(comp_price.split(' ')) > 1:\n",
    "                        return {}\n",
    "                else: \n",
    "                    return {}\n",
    "\n",
    "                comp_price = float(comp_price)\n",
    "            \n",
    "            # If the component are in the selected list for scrape\n",
    "            if name_text in build_comps:\n",
    "                comp_name = component_el.findChildren(limit=1, text=True)\n",
    "                comp_els = {'Name': comp_name, 'Price': comp_price}\n",
    "\n",
    "                if name_text not in builds_dict:\n",
    "                    builds_dict[name_text] = comp_els\n",
    "                else:\n",
    "                    comp_copy = builds_dict[name_text].copy()\n",
    "                    builds_dict[name_text] = []\n",
    "                    builds_dict[name_text].extend([comp_els, comp_copy])\n",
    "            else:\n",
    "                extra_price += comp_price if isinstance(comp_price, float) else 0\n",
    "\n",
    "            \n",
    "        except Exception as e:\n",
    "            print(e, url, name_text, component_el)\n",
    "            continue\n",
    "\n",
    "        total_table_row = soup.find('table', {\"class\": \"block partlist partlist--mini partlist--totals\"}).find('td', {\"class\": \"td__price\"}).text\n",
    "        builds_dict['Build Price'] = round(float(total_table_row.replace('$', '')) - extra_price, 2)\n",
    "    \n",
    "    return builds_dict"
   ]
  },
  {
   "cell_type": "code",
   "execution_count": 8,
   "metadata": {},
   "outputs": [],
   "source": [
    "def main():\n",
    "    proxies = get_proxies()\n",
    "    browser = get_driver()\n",
    "    n_pages = 1\n",
    "    builds_list = [] \n",
    "    for i in range(1, n_pages+1):\n",
    "        try:\n",
    "            url = parsed_url(page=i)\n",
    "            browser.get(url)\n",
    "            delay = randint(2, 5)  \n",
    "            time.sleep(delay)\n",
    "            soup = BeautifulSoup(browser.page_source, 'lxml')\n",
    "            builds_links = soup.find_all(\"a\", {\"class\": \"logGroup__target\"}, href=True)\n",
    "            \n",
    "            for build in builds_links:\n",
    "                build_url = parsed_url(build_link=build['href'])\n",
    "                build_dict = build_scraper(build_url,browser)\n",
    "                if build_dict:\n",
    "                    builds_list.append(build_dict)\n",
    "                \n",
    "                delay = randint(2, 10)  \n",
    "                time.sleep(delay)\n",
    "\n",
    "        except Exception as e:\n",
    "            print(e)\n",
    "            continue\n",
    "\n",
    "    browser.quit()\n",
    "    return builds_list\n"
   ]
  },
  {
   "cell_type": "code",
   "execution_count": 12,
   "metadata": {
    "tags": []
   },
   "outputs": [
    {
     "output_type": "stream",
     "name": "stdout",
     "text": "[{'Build Price': 922.0,\n  'CPU': {'Name': 'Intel Core i5-10600K 4.1 GHz 6-Core', 'Price': 256.97},\n  'CPU Cooler': {'Name': 'NZXT Kraken X53 73.11 CFM Liquid', 'Price': 118.45},\n  'Case': {'Name': 'NZXT H510i ATX Mid Tower', 'Price': 100.0},\n  'Memory': {'Name': 'G.Skill Trident Z Neo 32 GB (2 x 16 GB) DDR4-3600 CL18',\n             'Price': 149.99},\n  'Motherboard': {'Name': 'Asus TUF GAMING Z490-PLUS (WI-FI) ATX LGA1200',\n                  'Price': 181.28},\n  'Name': '2nd Build - Upgrading and Waiting for the New RTX 30 Series',\n  'Power Supply': {'Name': 'Corsair RMx (2018) 750 W 80+ Gold Certified Fully '\n                           'Modular ATX',\n                   'Price': 115.31},\n  'Storage': [{'Name': 'Western Digital 3 TB 3.5\" 5900RPM', 'Price': 0.0},\n              {'Name': 'Samsung 970 Evo Plus 250 GB M.2-2280 NVME SSD',\n               'Price': 0.0}],\n  'Video Card': {'Name': 'Gigabyte GeForce GTX 1070 8 GB Mini ITX OC',\n                 'Price': 0.0}},\n {'Build Price': 980.91,\n  'CPU': {'Name': 'AMD Ryzen 5 3600 3.6 GHz 6-Core', 'Price': 219.99},\n  'Case': {'Name': 'NZXT H510 ATX Mid Tower', 'Price': 69.98},\n  'Memory': {'Name': 'Corsair Vengeance LPX 16 GB (2 x 8 GB) DDR4-3600 CL18',\n             'Price': 64.98},\n  'Motherboard': {'Name': 'MSI B450 TOMAHAWK MAX ATX AM4', 'Price': 125.99},\n  'Name': 'First PC',\n  'Power Supply': {'Name': 'Corsair CXM 650 W 80+ Bronze Certified '\n                           'Semi-modular ATX',\n                   'Price': 94.99},\n  'Storage': {'Name': 'Crucial P1 1 TB M.2-2280 NVME SSD', 'Price': 104.99},\n  'Video Card': {'Name': 'MSI GeForce GTX 1660 Ti 6 GB GAMING X',\n                 'Price': 269.99}},\n {'Build Price': 1606.79,\n  'CPU': {'Name': 'Intel Core i7-9700K 3.6 GHz 8-Core', 'Price': 299.99},\n  'CPU Cooler': {'Name': 'NZXT Kraken X62 Rev 2 98.17 CFM Liquid',\n                 'Price': None},\n  'Case': {'Name': 'NZXT H210i Mini ITX Tower', 'Price': 109.99},\n  'Memory': {'Name': 'G.Skill Trident Z RGB 16 GB (2 x 8 GB) DDR4-3600 CL18',\n             'Price': 84.99},\n  'Motherboard': {'Name': 'Asus ROG STRIX Z390-I GAMING Mini ITX LGA1151',\n                  'Price': None},\n  'Name': 'Mi primera DIY PC - 10 años esperando la oportunidad ',\n  'Power Supply': {'Name': 'Gigabyte 750 W 80+ Gold Certified Semi-modular ATX',\n                   'Price': 169.97},\n  'Storage': [{'Name': 'Seagate FireCuda 2 TB 2.5\" 5400RPM Hybrid',\n               'Price': 169.95},\n              {'Name': 'Sabrent Rocket 512 GB M.2-2280 NVME SSD',\n               'Price': 79.98}],\n  'Video Card': {'Name': 'Gigabyte GeForce RTX 2070 SUPER 8 GB GAMING OC 3X',\n                 'Price': 691.92}},\n {'Build Price': 458.98,\n  'CPU Cooler': {'Name': 'Antec KUHLER H2O 1250 98 CFM Liquid', 'Price': 35.0},\n  'Case': {'Name': 'Cougar MX330-G ATX Mid Tower', 'Price': 53.99},\n  'Memory': {'Name': 'Kingston HyperX Predator 32 GB (4 x 8 GB) DDR4-2400 CL12',\n             'Price': 78.0},\n  'Name': 'Workstation/Streaming PC (E5 2678v3 12C 24TH, Vega 56)',\n  'Power Supply': {'Name': 'Silverstone Essential 650 W 80+ Gold Certified ATX',\n                   'Price': 84.99},\n  'Storage': [{'Name': 'Western Digital RE 3 TB 3.5\" 7200RPM', 'Price': 0.0},\n              [{'Name': 'Western Digital Caviar Blue 1 TB 3.5\" 7200RPM',\n                'Price': 0.0},\n               [{'Name': 'Western Digital RE4 1 TB 3.5\" 7200RPM', 'Price': 0.0},\n                {'Name': 'HP EX920 256 GB M.2-2280 NVME SSD', 'Price': 0.0}]]],\n  'Video Card': {'Name': 'MSI Radeon RX VEGA 56 8 GB Air Boost 8G OC',\n                 'Price': 207.0}},\n {'Build Price': 1230.79,\n  'CPU': {'Name': 'AMD Ryzen 5 3600X 3.8 GHz 6-Core', 'Price': 207.99},\n  'CPU Cooler': {'Name': 'Lian Li GALAHAD AIO 240 RGB 69.17 CFM Liquid',\n                 'Price': None},\n  'Case': {'Name': 'Lian Li PC-O11 Dynamic ATX Full Tower', 'Price': 139.99},\n  'Memory': [{'Name': 'G.Skill Trident Z 16 GB (2 x 8 GB) DDR4-3333 CL16',\n              'Price': 89.99},\n             {'Name': 'G.Skill Trident Z RGB 16 GB (2 x 8 GB) DDR4-3000 CL16',\n              'Price': 79.98}],\n  'Motherboard': {'Name': 'MSI MAG B550 TOMAHAWK ATX AM4', 'Price': 179.99},\n  'Name': 'Lyin Li',\n  'Power Supply': {'Name': 'EVGA SuperNOVA G1+ 750 W 80+ Gold Certified Fully '\n                           'Modular ATX',\n                   'Price': 153.4},\n  'Storage': [{'Name': 'Western Digital Blue 4 TB 3.5\" 5400RPM',\n               'Price': 84.99},\n              [{'Name': 'Western Digital Blue 4 TB 3.5\" 5400RPM',\n                'Price': 84.99},\n               [{'Name': 'Western Digital Red 1 TB 3.5\" 5400RPM',\n                 'Price': 59.99},\n                [{'Name': 'Western Digital Blue SN550 1 TB M.2-2280 NVME SSD',\n                  'Price': 104.99},\n                 {'Name': 'Verbatim Vi550 256 GB 2.5\" SSD', 'Price': 44.49}]]]],\n  'Video Card': {'Name': 'Asus GeForce GTX 980 Ti 6 GB STRIX', 'Price': None}},\n {'Build Price': 950.97,\n  'CPU': {'Name': 'AMD Ryzen 5 3600 3.6 GHz 6-Core', 'Price': 205.99},\n  'Memory': {'Name': 'G.Skill Ripjaws V Series 16 GB (2 x 8 GB) DDR4-3200 CL16',\n             'Price': 59.99},\n  'Motherboard': {'Name': 'Gigabyte B450 I AORUS PRO WIFI Mini ITX AM4',\n                  'Price': 95.0},\n  'Name': 'The Sheep Counter 9000',\n  'Storage': {'Name': 'Samsung 970 Evo 1 TB M.2-2280 NVME SSD',\n              'Price': 189.99},\n  'Video Card': {'Name': 'EVGA GeForce GTX 1080 Ti 11 GB GAMING',\n                 'Price': 400.0}},\n {'Build Price': 1676.83,\n  'CPU': {'Name': 'AMD Ryzen 9 3900X 3.8 GHz 12-Core', 'Price': 438.89},\n  'CPU Cooler': {'Name': 'Corsair H115i RGB PLATINUM 97 CFM Liquid',\n                 'Price': 169.99},\n  'Memory': {'Name': 'Corsair Vengeance LPX 32 GB (2 x 16 GB) DDR4-3200 CL16',\n             'Price': 107.99},\n  'Motherboard': {'Name': 'Gigabyte X570 AORUS ELITE ATX AM4', 'Price': 199.99},\n  'Name': 'First Build - Day Trading and Gaming PC ',\n  'Power Supply': {'Name': 'Thermaltake Toughpower Grand RGB 850 W 80+ Gold '\n                           'Certified Fully Modular ATX',\n                   'Price': 149.99},\n  'Storage': {'Name': 'Western Digital SN750 1 TB M.2-2280 NVME SSD',\n              'Price': 169.99},\n  'Video Card': {'Name': 'XFX Radeon RX 5700 XT 8 GB THICC III Ultra 2',\n                 'Price': 439.99}},\n {'Build Price': 1431.39,\n  'CPU': {'Name': 'AMD Ryzen 5 3600 3.6 GHz 6-Core', 'Price': 219.99},\n  'CPU Cooler': {'Name': 'Scythe FUMA 2 51.17 CFM', 'Price': 59.99},\n  'Case': {'Name': 'NZXT H510 ATX Mid Tower', 'Price': 69.98},\n  'Memory': {'Name': 'G.Skill Trident Z Neo 16 GB (2 x 8 GB) DDR4-3600 CL16',\n             'Price': 117.99},\n  'Motherboard': {'Name': 'MSI MAG B550 TOMAHAWK ATX AM4', 'Price': 179.99},\n  'Name': '2020 AMD Build',\n  'Power Supply': {'Name': 'EVGA SuperNOVA G2 850 W 80+ Gold Certified Fully '\n                           'Modular ATX',\n                   'Price': 313.49},\n  'Storage': [{'Name': 'Western Digital BLACK SERIES 1 TB 3.5\" 7200RPM',\n               'Price': 69.99},\n              {'Name': 'Western Digital SN750 500 GB M.2-2280 NVME SSD',\n               'Price': 69.98}],\n  'Video Card': {'Name': 'EVGA GeForce RTX 2060 6 GB KO ULTRA GAMING',\n                 'Price': 329.99}},\n {'Build Price': 559.93,\n  'CPU': {'Name': 'AMD Ryzen 3 3100 3.6 GHz Quad-Core', 'Price': 114.99},\n  'Case': {'Name': 'Phanteks Eclipse P400A Digital ATX Mid Tower',\n           'Price': None},\n  'Memory': {'Name': 'Corsair Vengeance LPX 16 GB (2 x 8 GB) DDR4-3600 CL18',\n             'Price': 64.98},\n  'Motherboard': {'Name': 'ASRock B450M Steel Legend Micro ATX AM4',\n                  'Price': 104.99},\n  'Name': 'The Modest Gamer',\n  'Power Supply': {'Name': 'SeaSonic S12III 500 W 80+ Bronze Certified ATX',\n                   'Price': 59.99},\n  'Storage': {'Name': 'Seagate Barracuda Compute 2 TB 3.5\" 7200RPM',\n              'Price': 54.99},\n  'Video Card': {'Name': 'XFX Radeon RX 570 8 GB', 'Price': 159.99}},\n {'Build Price': 588.85,\n  'CPU': {'Name': 'AMD Ryzen 3 3100 3.6 GHz Quad-Core', 'Price': 114.99},\n  'Case': {'Name': 'Cooler Master MasterBox MB311L ARGB MicroATX Mid Tower',\n           'Price': 59.94},\n  'Memory': {'Name': 'Team T-FORCE VULCAN Z 16 GB (2 x 8 GB) DDR4-3200 CL16',\n             'Price': 53.99},\n  'Motherboard': {'Name': 'MSI A320M-A PRO MAX Micro ATX AM4', 'Price': 59.98},\n  'Name': 'Customer Rig #14: RGB on a budget',\n  'Power Supply': {'Name': 'EVGA BQ 500 W 80+ Bronze Certified Semi-modular '\n                           'ATX',\n                   'Price': 63.98},\n  'Storage': {'Name': 'Team MP34 512 GB M.2-2280 NVME SSD', 'Price': 66.99},\n  'Video Card': {'Name': 'Asus GeForce GTX 1650 SUPER 4 GB Phoenix OC',\n                 'Price': 168.98}},\n {'Build Price': 2821.37,\n  'CPU': {'Name': 'Intel Core i9-10850K 3.6 GHz 10-Core', 'Price': 486.85},\n  'CPU Cooler': {'Name': 'ARCTIC Liquid Freezer II 240 56.3 CFM Liquid',\n                 'Price': 99.99},\n  'Case': {'Name': 'Lian Li O11D XL-X ATX Full Tower', 'Price': 209.98},\n  'Memory': {'Name': 'Team Night Hawk RGB 16 GB (2 x 8 GB) DDR4-3200 CL16',\n             'Price': 74.99},\n  'Motherboard': {'Name': 'Asus ROG STRIX Z490-E GAMING ATX LGA1200',\n                  'Price': 296.87},\n  'Name': 'Modern homemade gaming rig ( minus the modern GPU )',\n  'Power Supply': {'Name': 'Corsair RMx (2018) 850 W 80+ Gold Certified Fully '\n                           'Modular ATX',\n                   'Price': 144.99},\n  'Storage': [{'Name': 'Seagate Barracuda 2 TB 3.5\" 7200RPM', 'Price': None},\n              [{'Name': 'Samsung 970 Evo 1 TB M.2-2280 NVME SSD',\n                'Price': 168.72},\n               [{'Name': 'Samsung 860 Evo 1 TB 2.5\" SSD', 'Price': 129.99},\n                {'Name': 'Crucial MX500 500 GB 2.5\" SSD', 'Price': 59.99}]]],\n  'Video Card': {'Name': 'MSI GeForce GTX 1080 Ti 11 GB GAMING X',\n                 'Price': 1149.0}},\n {'Build Price': 1961.58,\n  'CPU': {'Name': 'AMD Ryzen 5 3600 3.6 GHz 6-Core', 'Price': 219.99},\n  'CPU Cooler': [{'Name': 'ARCTIC Liquid Freezer II 120 56.3 CFM Liquid',\n                  'Price': 78.99},\n                 {'Name': 'Corsair H75 54 CFM Liquid', 'Price': 80.0}],\n  'Case': {'Name': 'NZXT H210 Mini ITX Tower', 'Price': 79.98},\n  'Memory': {'Name': 'Corsair Vengeance LPX 16 GB (2 x 8 GB) DDR4-3600 CL18',\n             'Price': 64.98},\n  'Motherboard': {'Name': 'Asus ROG Strix X570-I Gaming Mini ITX AM4',\n                  'Price': 249.99},\n  'Name': 'First AMD and itx build',\n  'Power Supply': {'Name': 'SeaSonic X Series 850 W 80+ Gold Certified Fully '\n                           'Modular ATX',\n                   'Price': 299.99},\n  'Storage': [{'Name': 'Western Digital SN750 1 TB M.2-2280 NVME SSD',\n               'Price': 147.68},\n              {'Name': 'Samsung 860 Evo 1 TB 2.5\" SSD', 'Price': 129.99}],\n  'Video Card': {'Name': 'MSI GeForce GTX 1070 Ti 8 GB Titanium',\n                 'Price': 609.99}},\n {'Build Price': 1187.84,\n  'CPU': {'Name': 'Intel Core i7-10700K 3.8 GHz 8-Core', 'Price': 393.89},\n  'CPU Cooler': {'Name': 'NZXT Kraken X63 98.17 CFM Liquid', 'Price': 149.99},\n  'Case': {'Name': 'Cooler Master MasterBox NR200 Mini ITX Desktop',\n           'Price': None},\n  'Memory': {'Name': 'G.Skill Ripjaws V 32 GB (2 x 16 GB) DDR4-3600 CL16',\n             'Price': 138.99},\n  'Motherboard': {'Name': 'MSI MEG Z490I UNIFY Mini ITX LGA1200',\n                  'Price': 239.99},\n  'Name': 'Little Rig!',\n  'Power Supply': {'Name': 'Corsair SF 600 W 80+ Platinum Certified Fully '\n                           'Modular SFX',\n                   'Price': 144.99},\n  'Storage': {'Name': 'HP EX950 1 TB M.2-2280 NVME SSD', 'Price': 119.99}},\n {'Build Price': 1046.82,\n  'CPU': {'Name': 'AMD Ryzen 7 3700X 3.6 GHz 8-Core', 'Price': 289.99},\n  'Case': {'Name': 'Cooler Master MasterBox TD500 Mesh w/ Controller ATX Mid '\n                   'Tower',\n           'Price': 88.99},\n  'Memory': {'Name': 'Team T-FORCE XCALIBUR RGB 16 GB (2 x 8 GB) DDR4-3600 '\n                     'CL18',\n             'Price': 119.99},\n  'Motherboard': {'Name': 'Gigabyte B450 AORUS PRO WIFI (rev. 1.0) ATX AM4',\n                  'Price': 129.99},\n  'Name': 'Customer Rig #13',\n  'Power Supply': {'Name': 'be quiet! Pure Power 11 CM 600 W 80+ Gold '\n                           'Certified Semi-modular ATX',\n                   'Price': 89.9},\n  'Storage': [{'Name': 'Western Digital Caviar Blue 1 TB 3.5\" 7200RPM',\n               'Price': 44.99},\n              {'Name': 'PNY XLR8 CS3030 250 GB M.2-2280 NVME SSD',\n               'Price': 42.98}],\n  'Video Card': {'Name': 'EVGA GeForce GTX 1660 SUPER 6 GB SC ULTRA GAMING',\n                 'Price': 239.99}},\n {'Build Price': 1632.57,\n  'CPU': {'Name': 'AMD Ryzen 5 3600 3.6 GHz 6-Core', 'Price': 219.99},\n  'CPU Cooler': {'Name': 'Corsair H100i RGB PLATINUM 75 CFM Liquid',\n                 'Price': 159.99},\n  'Case': {'Name': 'Fractal Design Meshify C ATX Mid Tower', 'Price': 98.98},\n  'Memory': {'Name': 'Corsair Vengeance RGB Pro 16 GB (2 x 8 GB) DDR4-3200 '\n                     'CL16',\n             'Price': 81.99},\n  'Motherboard': {'Name': 'Asus ROG Strix X570-E Gaming ATX AM4',\n                  'Price': 296.66},\n  'Name': 'First solo build',\n  'Power Supply': {'Name': 'Corsair RMx (2018) 750 W 80+ Gold Certified Fully '\n                           'Modular ATX',\n                   'Price': 134.99},\n  'Storage': [{'Name': 'Samsung 860 Evo 1 TB 2.5\" SSD', 'Price': 129.99},\n              {'Name': 'Samsung 970 Pro 512 GB M.2-2280 NVME SSD',\n               'Price': 169.99}],\n  'Video Card': {'Name': 'Gigabyte GeForce RTX 2060 6 GB WINDFORCE OC',\n                 'Price': 339.99}},\n {'Build Price': 836.83,\n  'CPU': {'Name': 'AMD Ryzen 5 2600X 3.6 GHz 6-Core', 'Price': 169.99},\n  'CPU Cooler': {'Name': 'Noctua NH-D15 82.5 CFM', 'Price': 89.95},\n  'Case': {'Name': 'Deepcool MATREXX 50 ATX Mid Tower', 'Price': 55.98},\n  'Memory': {'Name': 'Corsair Vengeance LED 16 GB (2 x 8 GB) DDR4-3000 CL16',\n             'Price': None},\n  'Motherboard': {'Name': 'MSI B450 TOMAHAWK ATX AM4', 'Price': 184.99},\n  'Name': 'Nuclear Power plant',\n  'Power Supply': {'Name': 'EVGA BQ 750 W 80+ Bronze Certified Semi-modular '\n                           'ATX',\n                   'Price': 114.99},\n  'Storage': [{'Name': 'Hitachi Deskstar 7K2000 2 TB 3.5\" 7200RPM',\n               'Price': 54.89},\n              [{'Name': 'Seagate Barracuda 1 TB 3.5\" 7200RPM', 'Price': 47.05},\n               {'Name': 'Intel 660p Series 1.02 TB M.2-2280 NVME SSD',\n                'Price': 118.99}]],\n  'Video Card': {'Name': 'EVGA GeForce RTX 2060 6 GB XC ULTRA GAMING',\n                 'Price': None}},\n {'Build Price': 1502.27,\n  'CPU': {'Name': 'Intel Core i5-9600K 3.7 GHz 6-Core', 'Price': 199.99},\n  'CPU Cooler': {'Name': 'Corsair H100i RGB PLATINUM SE 63 CFM Liquid',\n                 'Price': 169.99},\n  'Case': {'Name': 'Corsair 275R ATX Mid Tower', 'Price': 79.99},\n  'Memory': {'Name': 'Corsair Vengeance RGB Pro 32 GB (4 x 8 GB) DDR4-3200 '\n                     'CL16',\n             'Price': 174.99},\n  'Motherboard': {'Name': 'Asus PRIME Z390-A ATX LGA1151', 'Price': 169.99},\n  'Name': 'Corsair ice build',\n  'Power Supply': {'Name': 'Corsair Builder 750 W 80+ Bronze Certified ATX',\n                   'Price': 126.99},\n  'Storage': [{'Name': 'Seagate Barracuda Compute 2 TB 3.5\" 7200RPM',\n               'Price': 54.99},\n              {'Name': 'Corsair MP510 480 GB M.2-2280 NVME SSD',\n               'Price': 69.79}],\n  'Video Card': {'Name': 'MSI GeForce GTX 1060 6GB 6 GB GAMING X',\n                 'Price': 455.55}}]\n"
    }
   ],
   "source": [
    "if __name__ == '__main__':\n",
    "    builds = main()"
   ]
  }
 ]
}